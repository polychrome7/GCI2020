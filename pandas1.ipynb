{
  "nbformat": 4,
  "nbformat_minor": 0,
  "metadata": {
    "colab": {
      "name": "pandas1.ipynb",
      "provenance": [],
      "collapsed_sections": []
    },
    "kernelspec": {
      "name": "python3",
      "display_name": "Python 3"
    }
  },
  "cells": [
    {
      "cell_type": "markdown",
      "metadata": {
        "id": "EI-zlC-8DyE9"
      },
      "source": [
        "\n",
        "問題文\n",
        "以下のサイトにあるデータ（ワインの品質）が分析対象になります。\n",
        "\n",
        "http://archive.ics.uci.edu/ml/machine-learning-databases/wine-quality/winequality-red.csv\n",
        "\n",
        "このデータを読み込み、カラムのtotal sulfur dioxideについて分位点でn個（nはデータ数を越えず、同一の値が分割位置に当たらない自然数）に分割し、それぞれのグループについてpHの平均値を算出してください。さらに、このn個のグループのそれぞれのpHの平均値の中で、1番小さい平均値と1番大きな平均値を足して、その合計値を返り値とするような関数を作成してください。\n",
        "\n",
        "提出するときは、以下の点に注意してください。\n",
        "\n",
        "以下の関数homeworkの!!WRITE ME!!に処理を書いてください。(「!!WRITE ME!!」は消して、記入してください。)\n",
        "実際の提出は記述されたhomework関数全てになり、提出場所はOmnicampus右上にある青字のHomeworkドロップダウンメニューからSaveしてください。Solutionに関数を貼り付けてからSaveを押してください。\n",
        "返り値が数値型になるようにしてください。\n",
        "関数は1つにまとめてください。"
      ]
    },
    {
      "cell_type": "code",
      "metadata": {
        "id": "TKhlPXsaD02H"
      },
      "source": [
        "# common\n",
        "import numpy as np\n",
        "import pandas as pd\n",
        "from pandas import DataFrame\n",
        "# URL\n",
        "url_winequality_data = \"http://archive.ics.uci.edu/ml/machine-learning-databases/wine-quality/winequality-red.csv\""
      ],
      "execution_count": null,
      "outputs": []
    },
    {
      "cell_type": "code",
      "metadata": {
        "id": "nEU5sDMxD1Qi"
      },
      "source": [
        "# working place. everything \n",
        "def homework(url_winequality_data, n):\n",
        "    df = pd.read_csv(url_winequality_data, sep=';')\n",
        "    df1 = df.dropna()\n",
        "    df2= df1.rename(columns={'total sulfur dioxide':'total_sulfur_dioxide'}, inplace=True)\n",
        "    df3=df2[['total_sulfur_dioxide', 'pH']]\n",
        "    df4 = pd.qcut(df3['total sulfur dioxide'], n)\n",
        "    grouped_df4 = df4.groupby('total_sulfur_dioxide')['pH'].mean()\n",
        "    functions = ['max','min']\n",
        "    df5 = grouped_df4['pH'].agg(functions)\n",
        "    my_result = df5['pH'].apply(lambda x: x.cumsum(), axis=0)\n",
        "    return my_result"
      ],
      "execution_count": null,
      "outputs": []
    }
  ]
}